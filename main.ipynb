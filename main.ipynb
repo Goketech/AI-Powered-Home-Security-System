{
 "cells": [
  {
   "cell_type": "code",
   "execution_count": 1,
   "metadata": {},
   "outputs": [
    {
     "name": "stdout",
     "output_type": "stream",
     "text": [
      "Downloading split 'train' to './open_images\\train' if necessary\n",
      "Downloading 'https://storage.googleapis.com/openimages/2018_04/train/train-images-boxable-with-rotation.csv' to './open_images\\train\\metadata\\image_ids.csv'\n",
      " 100% |██████|    4.8Gb/4.8Gb [6.3m elapsed, 0s remaining, 13.7Mb/s]      \n",
      "Downloading 'https://storage.googleapis.com/openimages/v5/class-descriptions-boxable.csv' to './open_images\\train\\metadata\\classes.csv'\n",
      "Downloading 'https://storage.googleapis.com/openimages/2018_04/bbox_labels_600_hierarchy.json' to 'C:\\Users\\PC\\AppData\\Local\\Temp\\tmpujs8o1kr\\metadata\\hierarchy.json'\n",
      "Downloading 'https://storage.googleapis.com/openimages/v6/oidv6-train-annotations-bbox.csv' to './open_images\\train\\labels\\detections.csv'\n"
     ]
    }
   ],
   "source": [
    "import fiftyone as fo\n",
    "import fiftyone.zoo as foz\n",
    "\n",
    "# Load the dataset\n",
    "dataset = foz.load_zoo_dataset(\n",
    "    \"open-images-v6\",\n",
    "    split=\"train\",\n",
    "    label_types=[\"detections\"],\n",
    "    classes=[\"Person\"],\n",
    "    max_samples=1000,  # Adjust the number of samples as needed\n",
    "    dataset_dir=\"./open_images\"\n",
    ")\n"
   ]
  },
  {
   "cell_type": "markdown",
   "metadata": {},
   "source": [
    "Convert Annotations to YOLO Format"
   ]
  },
  {
   "cell_type": "code",
   "execution_count": null,
   "metadata": {},
   "outputs": [],
   "source": [
    "import os\n",
    "\n",
    "def convert_to_yolo_format(dataset, output_dir):\n",
    "    if not os.path.exists(output_dir):\n",
    "        os.makedirs(output_dir)\n",
    "    \n",
    "    for sample in dataset:\n",
    "        image_path = sample.filepath\n",
    "        label_path = os.path.join(output_dir, os.path.basename(image_path).replace('.jpg', '.txt'))\n",
    "        \n",
    "        with open(label_path, 'w') as f:\n",
    "            for detection in sample.detections.detections:\n",
    "                if detection.label == \"Person\":\n",
    "                    bbox = detection.bounding_box\n",
    "                    class_id = 0  # 'Person' class ID\n",
    "                    center_x = bbox[0] + bbox[2] / 2\n",
    "                    center_y = bbox[1] + bbox[3] / 2\n",
    "                    width = bbox[2]\n",
    "                    height = bbox[3]\n",
    "                    f.write(f\"{class_id} {center_x} {center_y} {width} {height}\\n\")\n",
    "\n",
    "# Convert annotations to YOLO format\n",
    "convert_to_yolo_format(dataset, \"./open_images/labels\")\n"
   ]
  },
  {
   "cell_type": "markdown",
   "metadata": {},
   "source": [
    "Visualize the Dataset"
   ]
  },
  {
   "cell_type": "code",
   "execution_count": null,
   "metadata": {},
   "outputs": [],
   "source": [
    "import cv2\n",
    "import matplotlib.pyplot as plt\n",
    "\n",
    "def visualize_image(image_path, label_path):\n",
    "    image = cv2.imread(image_path)\n",
    "    h, w, _ = image.shape\n",
    "    with open(label_path, 'r') as f:\n",
    "        for line in f:\n",
    "            class_id, center_x, center_y, width, height = map(float, line.strip().split())\n",
    "            center_x, center_y, width, height = int(center_x * w), int(center_y * h), int(width * w), int(height * h)\n",
    "            top_left = (center_x - width // 2, center_y - height // 2)\n",
    "            bottom_right = (center_x + width // 2, center_y + height // 2)\n",
    "            cv2.rectangle(image, top_left, bottom_right, (255, 0, 0), 2)\n",
    "    plt.imshow(cv2.cvtColor(image, cv2.COLOR_BGR2RGB))\n",
    "    plt.axis('off')\n",
    "    plt.show()\n",
    "\n",
    "# Visualize a few examples\n",
    "images_dir = \"./open_images/train/data/\"\n",
    "labels_dir = \"./open_images/labels/\"\n",
    "for image_file in os.listdir(images_dir)[:5]:\n",
    "    image_path = os.path.join(images_dir, image_file)\n",
    "    label_path = os.path.join(labels_dir, image_file.replace('.jpg', '.txt'))\n",
    "    visualize_image(image_path, label_path)\n"
   ]
  }
 ],
 "metadata": {
  "kernelspec": {
   "display_name": "openimages_env",
   "language": "python",
   "name": "python3"
  },
  "language_info": {
   "codemirror_mode": {
    "name": "ipython",
    "version": 3
   },
   "file_extension": ".py",
   "mimetype": "text/x-python",
   "name": "python",
   "nbconvert_exporter": "python",
   "pygments_lexer": "ipython3",
   "version": "3.10.7"
  }
 },
 "nbformat": 4,
 "nbformat_minor": 2
}
